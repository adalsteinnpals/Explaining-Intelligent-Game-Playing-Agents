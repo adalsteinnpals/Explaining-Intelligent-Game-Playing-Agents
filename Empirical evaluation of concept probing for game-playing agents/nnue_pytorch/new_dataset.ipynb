{
 "cells": [
  {
   "cell_type": "code",
   "execution_count": 2,
   "metadata": {},
   "outputs": [],
   "source": [
    "from peewee import *\n",
    "import base64\n",
    "\n",
    "db = SqliteDatabase('2021-07-31-lichess-evaluations-37MM.db')"
   ]
  },
  {
   "cell_type": "code",
   "execution_count": 3,
   "metadata": {},
   "outputs": [
    {
     "name": "stdout",
     "output_type": "stream",
     "text": [
      "37164639\n",
      "b'CAAAAAAAAAAQAAAAAAAAAIEAAAAAAAAAJAAAAAAAAABCAAAAAAAAAADvABAAAAAAAAAAAAAAAAgAAAAAAAAAEAAAAAAAAACBAAAAAAAAACQAAAAAAAAAQgAAAAAAAP8AAAABEz8='\n"
     ]
    }
   ],
   "source": [
    "class Evaluations(Model):\n",
    "  id = IntegerField()\n",
    "  fen = TextField()\n",
    "  binary = BlobField()\n",
    "  eval = FloatField()\n",
    "\n",
    "  class Meta:\n",
    "    database = db\n",
    "\n",
    "  def binary_base64(self):\n",
    "    return base64.b64encode(self.binary)\n",
    "db.connect()\n",
    "LABEL_COUNT = 37164639\n",
    "print(LABEL_COUNT)\n",
    "eval = Evaluations.get(Evaluations.id == 1)\n",
    "print(eval.binary_base64())"
   ]
  },
  {
   "cell_type": "code",
   "execution_count": 5,
   "metadata": {},
   "outputs": [],
   "source": [
    "# pick 1m random indices from 0 to LABEL_COUNT with no repeats\n",
    "import numpy as np\n",
    "\n",
    "index = np.random.choice(LABEL_COUNT, 1000000, replace=False)"
   ]
  },
  {
   "cell_type": "code",
   "execution_count": 6,
   "metadata": {},
   "outputs": [
    {
     "name": "stderr",
     "output_type": "stream",
     "text": [
      "100%|██████████| 1000000/1000000 [03:34<00:00, 4658.32it/s]\n"
     ]
    }
   ],
   "source": [
    "\n",
    "        \n",
    "from collections import Counter\n",
    "import chess\n",
    "from tqdm import tqdm\n",
    "results = []\n",
    "for idx in tqdm(index):\n",
    "    eval = Evaluations.get(Evaluations.id == idx)\n",
    "    fen = eval.fen\n",
    "\n",
    "    d = {}\n",
    "    d['fen'] = fen\n",
    "    board = chess.Board(fen)\n",
    "    pieces = dict(Counter([str(v) for v in board.piece_map().values()]))\n",
    "    d = {**d, **pieces}\n",
    "    d['num_pieces'] = sum(pieces.values())\n",
    "    d['bucket'] = int((sum(pieces.values()) - 1) / 4)\n",
    "    d['white_to_move'] = board.turn\n",
    "    results.append(d)"
   ]
  },
  {
   "cell_type": "code",
   "execution_count": 7,
   "metadata": {},
   "outputs": [
    {
     "name": "stdout",
     "output_type": "stream",
     "text": [
      "(1000000, 16)\n",
      "                                                  fen  k    r    q    b    n  \\\n",
      "0   rnbq1rk1/2p2ppp/p2bpn2/1p6/1P1P4/P1N1PN2/B4PPP...  1  2.0  1.0  2.0  2.0   \n",
      "1   2kr2nr/2p2pq1/p6p/1Pb3p1/Q3Bp2/2P2P1b/1P1N3P/R...  1  2.0  1.0  2.0  1.0   \n",
      "2   1k6/p1q4Q/Pn2n2p/N2pP3/3P1p1P/5Pp1/6P1/2R3K1 b...  1  0.0  1.0  0.0  2.0   \n",
      "3                 3r4/8/8/3K1k2/8/3N4/8/8 w - - 43 99  1  1.0  0.0  0.0  0.0   \n",
      "4   rnbk2nr/pppp2Qp/1b6/4p1N1/1q2P3/8/PPPP1PPP/RNB...  1  2.0  1.0  2.0  2.0   \n",
      "5   4r1k1/1ppb1ppp/p1np4/4r3/B1P5/4B3/P1P2PPP/1R3R...  1  2.0  0.0  1.0  1.0   \n",
      "6   r2qkb1r/ppp1np1p/6p1/8/2B1Q3/8/PPPP1PPP/R1B1R1...  1  2.0  1.0  1.0  1.0   \n",
      "7   r2qbrk1/1p2R1pp/2pP1np1/2P1N3/p1P2RP1/2Q4P/1B6...  1  2.0  1.0  1.0  1.0   \n",
      "8   2r3k1/5qp1/r1B4R/5p1p/ppQP4/4P3/PP4PP/3R2K1 w ...  1  2.0  1.0  0.0  0.0   \n",
      "9   3r1rk1/1b3pbp/p4n2/1p6/3P4/3BP3/PP3PPP/RNBQ1RK...  1  2.0  0.0  2.0  1.0   \n",
      "10  r3kb1r/pp1npppp/2p2n2/q4b2/2BP4/2N2N1P/PPP2PP1...  1  2.0  1.0  2.0  2.0   \n",
      "11  r2q2k1/8/p1Qn1r2/1p2p2B/1P1b4/6PP/P3R1K1/1R6 b...  1  2.0  1.0  1.0  1.0   \n",
      "12  r2q1rk1/1p2ppbp/p1p2np1/8/2BP2b1/2N1B3/PPPQ1PP...  1  2.0  1.0  2.0  1.0   \n",
      "13  rn1qkb1r/ppp2pp1/4bp1p/3p4/2PP4/2N5/PP2PPPP/R2...  1  2.0  1.0  2.0  1.0   \n",
      "14  2r3k1/5p2/3p1bp1/4p3/p1PpP1P1/Pp1P1N2/1P6/2K4R...  1  1.0  0.0  1.0  0.0   \n",
      "15       8/8/1k1p3p/p1pP1p1P/K1P2P2/8/8/8 w - - 14 55  1  0.0  0.0  0.0  0.0   \n",
      "16    3r4/3p2kp/2p1p3/p7/3r2KP/1P3RP1/P7/8 w - - 6 36  1  2.0  0.0  0.0  0.0   \n",
      "17  r7/p4p1k/2p3q1/4P3/5n2/1Q4Pb/PPPN1P1P/R5K1 b -...  1  1.0  1.0  1.0  1.0   \n",
      "18  r3r1k1/pp1PPp1p/6p1/5b2/2Q3n1/q4N2/P4PPP/2b2RK...  1  2.0  1.0  2.0  1.0   \n",
      "19  1r4k1/2p3p1/1p2p2p/rQ1p4/P2Pp3/2P1P1P1/6PP/R5K...  1  2.0  0.0  0.0  0.0   \n",
      "20  2rr2k1/2q2pbp/p1n2np1/1p2p3/4p3/1BP1BP2/PPQN2P...  1  2.0  1.0  1.0  2.0   \n",
      "21  rnbqkb1B/pppp3p/6p1/5p2/4n3/1P6/P1PPQPPP/RN2KB...  1  1.0  1.0  2.0  2.0   \n",
      "22  r5k1/ppp2p1p/2n1p1pB/6b1/5Q2/3r4/2q2PPP/1R3RK1...  1  2.0  1.0  1.0  1.0   \n",
      "23  r4k1r/5p1p/p2p2b1/1p1P4/2p1N1P1/3B1P2/PPP4P/R4...  1  2.0  0.0  1.0  0.0   \n",
      "24  6k1/2B3pp/p1p2p2/1p1P4/2n1P3/2P5/5KPP/8 b - - ...  1  0.0  0.0  0.0  1.0   \n",
      "25  r1bq1rk1/1p1nbppp/p3pn2/3p4/3P1B2/2N2NP1/PP2PP...  1  2.0  1.0  2.0  2.0   \n",
      "26  r5k1/3n1pp1/p1p2q1p/1P6/3P4/P1Q3B1/5PPP/4R1K1 ...  1  1.0  1.0  0.0  1.0   \n",
      "27  1r2k2r/3qn3/2p3p1/1P1P1p1P/2P4K/7P/2Q2P2/1R4R1...  1  2.0  1.0  0.0  1.0   \n",
      "28  r2qkb1r/ppp2ppp/8/6n1/6b1/2P3P1/P1PPNKBP/R1BQ3...  1  2.0  1.0  2.0  1.0   \n",
      "29  r3k2r/1p1qbppp/p4n2/2ppR3/P2n1P2/2NP1P2/BPP4P/...  1  2.0  1.0  1.0  2.0   \n",
      "30     8/1b4k1/p4p1p/2rprB2/R6P/5PP1/5K2/8 w - - 1 44  1  2.0  0.0  1.0  0.0   \n",
      "31  3r4/p2nR1p1/1p1B2p1/6P1/2kp2P1/8/P7/2KR4 w - -...  1  1.0  0.0  0.0  1.0   \n",
      "32  r3r1k1/2p2pp1/p1pp1q1p/4p3/Pb2P3/2PP1N1P/1P3PP...  1  2.0  1.0  1.0  0.0   \n",
      "33  1r1qkbnr/pppbpppp/2np4/8/8/5NP1/PPPPPPBP/RNBQ1...  1  2.0  1.0  2.0  2.0   \n",
      "34  3r4/p4kp1/1p2p3/n2q1p2/7P/P3PB2/1PQ3P1/4K2R b ...  1  1.0  1.0  0.0  1.0   \n",
      "35  r6r/ppp2p1p/2nk4/5b2/8/3P4/PPP2PPP/R1B1K1NR w ...  1  2.0  0.0  1.0  1.0   \n",
      "36  r4bn1/ppp2N1p/6p1/3k4/3n4/8/PPb1B1PP/R1B1K2R b...  1  1.0  0.0  2.0  2.0   \n",
      "37  rn1qk2r/pppbbppp/4p3/3p4/3Pn3/2NBP3/PPPBQPPP/2...  1  2.0  1.0  2.0  2.0   \n",
      "38  r1bq2k1/pppp2pp/r6n/2P1pp2/1P6/P2PP2P/4KPP1/R1...  1  2.0  1.0  1.0  1.0   \n",
      "39  1r5r/p2k1ppp/N6n/3BpbB1/8/3P4/PP3PPP/R2Q1RK1 b...  1  2.0  0.0  1.0  1.0   \n",
      "40     4k3/5q2/6Q1/8/2P3pP/1K3bP1/PP3P2/8 w - - 15 51  1  0.0  1.0  1.0  0.0   \n",
      "41  5r1k/p5p1/1p1Q3p/2p2N2/2B1rB2/8/PPP4P/2K1R3 w ...  1  2.0  0.0  0.0  0.0   \n",
      "42  3r1rk1/ppBq1pp1/2p1p1bp/7n/2nPP3/P1N2PP1/1PQ1N...  1  2.0  1.0  1.0  2.0   \n",
      "43  r6k/6pp/p3pb2/2B5/qPB2P2/4QN2/6PP/3R2K1 b - - ...  1  1.0  1.0  1.0  0.0   \n",
      "44  2q2rk1/5ppp/R2p4/1Q1BpPb1/1P6/7P/5PP1/2R3K1 b ...  1  1.0  1.0  1.0  0.0   \n",
      "45  r4rk1/1pp3pp/p1qppn2/8/4P3/2N2N1P/PP3PP1/R1B1Q...  1  2.0  1.0  0.0  1.0   \n",
      "46  4rrk1/pp3ppp/1bn5/8/1P1p4/PP4QP/3q1pPB/3R1R1K ...  1  2.0  1.0  1.0  1.0   \n",
      "47     2R3k1/pp5p/3rN1p1/8/8/2K4P/PP3rP1/8 b - - 6 27  1  2.0  0.0  0.0  0.0   \n",
      "48  r2n1b1r/ppp3pp/4k3/8/4Bpb1/3P4/PPP2PPP/RN2K2R ...  1  2.0  0.0  2.0  1.0   \n",
      "49  1r1qkb1r/2pb1pp1/p4n1p/3p4/4p3/2PP1N2/PPQ2PPP/...  1  2.0  1.0  2.0  1.0   \n",
      "\n",
      "      p    P    N    B    R  K    Q  num_pieces  bucket  white_to_move  \n",
      "0   7.0  7.0  2.0  2.0  2.0  1  1.0          30       7          False  \n",
      "1   6.0  5.0  1.0  2.0  2.0  1  1.0          25       6          False  \n",
      "2   5.0  6.0  1.0  0.0  1.0  1  1.0          19       4          False  \n",
      "3   0.0  0.0  1.0  0.0  0.0  1  0.0           4       0           True  \n",
      "4   6.0  8.0  2.0  2.0  2.0  1  1.0          30       7           True  \n",
      "5   7.0  6.0  0.0  2.0  2.0  1  0.0          23       5          False  \n",
      "6   6.0  7.0  0.0  2.0  2.0  1  1.0          25       6          False  \n",
      "7   6.0  5.0  1.0  1.0  2.0  1  1.0          23       5           True  \n",
      "8   5.0  6.0  0.0  1.0  2.0  1  1.0          20       4           True  \n",
      "9   4.0  7.0  1.0  2.0  2.0  1  1.0          24       5           True  \n",
      "10  7.0  7.0  2.0  2.0  2.0  1  1.0          30       7           True  \n",
      "11  3.0  4.0  0.0  1.0  2.0  1  1.0          18       4          False  \n",
      "12  7.0  7.0  1.0  2.0  2.0  1  1.0          28       6           True  \n",
      "13  8.0  8.0  2.0  1.0  2.0  1  1.0          30       7           True  \n",
      "14  7.0  6.0  1.0  0.0  1.0  1  0.0          19       4          False  \n",
      "15  5.0  4.0  0.0  0.0  0.0  1  0.0          11       2           True  \n",
      "16  5.0  4.0  0.0  0.0  1.0  1  0.0          14       3           True  \n",
      "17  3.0  7.0  1.0  0.0  1.0  1  1.0          19       4          False  \n",
      "18  5.0  6.0  1.0  0.0  1.0  1  1.0          22       5          False  \n",
      "19  7.0  7.0  0.0  0.0  1.0  1  1.0          20       4           True  \n",
      "20  7.0  6.0  1.0  2.0  2.0  1  1.0          27       6           True  \n",
      "21  7.0  7.0  2.0  2.0  2.0  1  1.0          29       7           True  \n",
      "22  7.0  3.0  0.0  1.0  2.0  1  1.0          21       5           True  \n",
      "23  6.0  7.0  1.0  1.0  2.0  1  0.0          22       5           True  \n",
      "24  6.0  5.0  0.0  1.0  0.0  1  0.0          15       3          False  \n",
      "25  7.0  7.0  2.0  2.0  2.0  1  1.0          30       7           True  \n",
      "26  5.0  6.0  0.0  1.0  1.0  1  1.0          19       4          False  \n",
      "27  3.0  6.0  0.0  0.0  2.0  1  1.0          18       4           True  \n",
      "28  6.0  6.0  1.0  2.0  2.0  1  1.0          26       6           True  \n",
      "29  7.0  7.0  1.0  2.0  2.0  1  1.0          28       6          False  \n",
      "30  4.0  3.0  0.0  1.0  1.0  1  0.0          14       3           True  \n",
      "31  5.0  3.0  0.0  1.0  2.0  1  0.0          15       3           True  \n",
      "32  8.0  8.0  1.0  0.0  2.0  1  1.0          26       6          False  \n",
      "33  8.0  8.0  2.0  2.0  2.0  1  1.0          32       7           True  \n",
      "34  5.0  5.0  0.0  1.0  1.0  1  1.0          18       4          False  \n",
      "35  5.0  7.0  1.0  1.0  2.0  1  0.0          22       5           True  \n",
      "36  5.0  4.0  1.0  2.0  2.0  1  0.0          21       5          False  \n",
      "37  8.0  8.0  2.0  2.0  2.0  1  1.0          32       7          False  \n",
      "38  8.0  8.0  1.0  2.0  2.0  1  1.0          29       7          False  \n",
      "39  5.0  6.0  1.0  2.0  2.0  1  1.0          23       5          False  \n",
      "40  1.0  6.0  0.0  0.0  0.0  1  1.0          12       2           True  \n",
      "41  5.0  4.0  1.0  2.0  1.0  1  1.0          18       4           True  \n",
      "42  7.0  7.0  2.0  2.0  2.0  1  1.0          29       7          False  \n",
      "43  4.0  4.0  1.0  2.0  1.0  1  1.0          18       4          False  \n",
      "44  5.0  5.0  0.0  1.0  2.0  1  1.0          19       4          False  \n",
      "45  7.0  6.0  2.0  1.0  1.0  1  1.0          24       5          False  \n",
      "46  7.0  5.0  0.0  1.0  2.0  1  1.0          23       5          False  \n",
      "47  4.0  4.0  1.0  0.0  1.0  1  0.0          14       3          False  \n",
      "48  6.0  7.0  1.0  1.0  2.0  1  0.0          24       5          False  \n",
      "49  7.0  7.0  2.0  1.0  2.0  1  1.0          28       6           True  \n",
      "(1000000, 16)\n"
     ]
    }
   ],
   "source": [
    "import pandas as pd\n",
    "df = pd.DataFrame(results).fillna(0)\n",
    "# drop duplicate fen strings\n",
    "print(df.shape)\n",
    "df = df.drop_duplicates(subset=['fen'])\n",
    "print(df.head(50))\n",
    "print(df.shape)"
   ]
  },
  {
   "cell_type": "code",
   "execution_count": 8,
   "metadata": {},
   "outputs": [],
   "source": [
    "df.to_pickle('production_models/fen_df_lichess1m.pkl')"
   ]
  }
 ],
 "metadata": {
  "kernelspec": {
   "display_name": "Python 3 (ipykernel)",
   "language": "python",
   "name": "python3"
  },
  "language_info": {
   "codemirror_mode": {
    "name": "ipython",
    "version": 3
   },
   "file_extension": ".py",
   "mimetype": "text/x-python",
   "name": "python",
   "nbconvert_exporter": "python",
   "pygments_lexer": "ipython3",
   "version": "3.10.12"
  }
 },
 "nbformat": 4,
 "nbformat_minor": 4
}
