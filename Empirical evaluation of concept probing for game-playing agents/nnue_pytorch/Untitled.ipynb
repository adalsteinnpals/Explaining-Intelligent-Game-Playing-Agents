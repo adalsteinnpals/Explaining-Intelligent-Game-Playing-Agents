{
 "cells": [
  {
   "cell_type": "markdown",
   "id": "46f590f9-2b3a-44a0-84dd-acee7eeb539f",
   "metadata": {},
   "source": [
    "# IJCAI notes"
   ]
  },
  {
   "cell_type": "markdown",
   "id": "0aba30a2-1f66-467e-84c6-5efc26cd8c17",
   "metadata": {},
   "source": [
    "- [ ] Abstract submission deadline: January 10, 2024\n",
    "- [ ] Full paper submission deadline: January 17, 2024"
   ]
  },
  {
   "cell_type": "markdown",
   "id": "e912ed54-ec6a-415e-a81f-ab1a6a76d38f",
   "metadata": {},
   "source": [
    "### ToDo\n",
    "\n",
    "- [ ] Add untrained model to Figure 7\n",
    "- [ ] Syncronize cost functions\n",
    "- [ ] Should we do a hyperparameter search for each run?\n",
    "- [ ] We have two additional data points, i) untrained and ii) amnesic. Can we quantify how much closer we are to revealing true importance by using these tests?\n",
    "- [ ] "
   ]
  },
  {
   "cell_type": "markdown",
   "id": "c93c65b9-ab42-48fc-85c2-07cd273fcd1b",
   "metadata": {},
   "source": [
    "### Desirable "
   ]
  }
 ],
 "metadata": {
  "kernelspec": {
   "display_name": "Python 3 (ipykernel)",
   "language": "python",
   "name": "python3"
  },
  "language_info": {
   "codemirror_mode": {
    "name": "ipython",
    "version": 3
   },
   "file_extension": ".py",
   "mimetype": "text/x-python",
   "name": "python",
   "nbconvert_exporter": "python",
   "pygments_lexer": "ipython3",
   "version": "3.10.12"
  }
 },
 "nbformat": 4,
 "nbformat_minor": 5
}
