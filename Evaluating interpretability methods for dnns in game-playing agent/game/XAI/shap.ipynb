{
 "cells": [
  {
   "cell_type": "code",
   "execution_count": 2,
   "id": "2908fe5d",
   "metadata": {
    "collapsed": true,
    "jupyter": {
     "outputs_hidden": true
    },
    "tags": []
   },
   "outputs": [
    {
     "name": "stdout",
     "output_type": "stream",
     "text": [
      "Collecting shap\n",
      "  Downloading shap-0.39.0.tar.gz (356 kB)\n",
      "\u001b[K     |████████████████████████████████| 356 kB 1.3 MB/s eta 0:00:01\n",
      "\u001b[?25hRequirement already satisfied: numpy in /home/ap/anaconda3/lib/python3.8/site-packages (from shap) (1.19.2)\n",
      "Requirement already satisfied: scipy in /home/ap/anaconda3/lib/python3.8/site-packages (from shap) (1.6.2)\n",
      "Requirement already satisfied: scikit-learn in /home/ap/anaconda3/lib/python3.8/site-packages (from shap) (0.24.1)\n",
      "Requirement already satisfied: pandas in /home/ap/anaconda3/lib/python3.8/site-packages (from shap) (1.2.3)\n",
      "Requirement already satisfied: tqdm>4.25.0 in /home/ap/anaconda3/lib/python3.8/site-packages (from shap) (4.59.0)\n",
      "Collecting slicer==0.0.7\n",
      "  Downloading slicer-0.0.7-py3-none-any.whl (14 kB)\n",
      "Requirement already satisfied: numba in /home/ap/anaconda3/lib/python3.8/site-packages (from shap) (0.53.1)\n",
      "Requirement already satisfied: cloudpickle in /home/ap/anaconda3/lib/python3.8/site-packages (from shap) (1.6.0)\n",
      "Requirement already satisfied: setuptools in /home/ap/anaconda3/lib/python3.8/site-packages (from numba->shap) (52.0.0.post20210125)\n",
      "Requirement already satisfied: llvmlite<0.37,>=0.36.0rc1 in /home/ap/anaconda3/lib/python3.8/site-packages (from numba->shap) (0.36.0)\n",
      "Requirement already satisfied: python-dateutil>=2.7.3 in /home/ap/anaconda3/lib/python3.8/site-packages (from pandas->shap) (2.8.1)\n",
      "Requirement already satisfied: pytz>=2017.3 in /home/ap/anaconda3/lib/python3.8/site-packages (from pandas->shap) (2021.1)\n",
      "Requirement already satisfied: six>=1.5 in /home/ap/anaconda3/lib/python3.8/site-packages (from python-dateutil>=2.7.3->pandas->shap) (1.15.0)\n",
      "Requirement already satisfied: threadpoolctl>=2.0.0 in /home/ap/anaconda3/lib/python3.8/site-packages (from scikit-learn->shap) (2.1.0)\n",
      "Requirement already satisfied: joblib>=0.11 in /home/ap/anaconda3/lib/python3.8/site-packages (from scikit-learn->shap) (1.0.1)\n",
      "Building wheels for collected packages: shap\n",
      "  Building wheel for shap (setup.py) ... \u001b[?25ldone\n",
      "\u001b[?25h  Created wheel for shap: filename=shap-0.39.0-cp38-cp38-linux_x86_64.whl size=498746 sha256=b27f17080f943ac23a2add2c8fc11d19264213a8933d9752fc5e7380fe9b75e1\n",
      "  Stored in directory: /home/ap/.cache/pip/wheels/3d/c9/06/734ed80d6d61fad331974bf62017b4ea6b33488082b9f5e67e\n",
      "Successfully built shap\n",
      "Installing collected packages: slicer, shap\n",
      "Successfully installed shap-0.39.0 slicer-0.0.7\n"
     ]
    }
   ],
   "source": [
    "!pip install shap"
   ]
  },
  {
   "cell_type": "code",
   "execution_count": 3,
   "id": "e1c78c70",
   "metadata": {},
   "outputs": [],
   "source": [
    "import shap"
   ]
  },
  {
   "cell_type": "code",
   "execution_count": 5,
   "id": "0e3fce2c",
   "metadata": {},
   "outputs": [],
   "source": [
    "import numpy as np\n",
    "import torch\n",
    "from muzero_model.utils import load_saved_model, load_saved_model_only\n",
    "from muzero_model.models import Nets, Alphazero_wrapper\n",
    "from muzero_model.breakthrough import State\n",
    "\n",
    "from muzero_model.mcts import Tree\n",
    "\n",
    "import os\n",
    "os.environ['KMP_DUPLICATE_LIB_OK']='True'"
   ]
  },
  {
   "cell_type": "code",
   "execution_count": 6,
   "id": "262ee937",
   "metadata": {},
   "outputs": [],
   "source": [
    "nets = Alphazero_wrapper(num_blocks = 5,num_filters = 64)\n",
    "model = load_saved_model_only('../muzero_model/model_checkpoints/alpha_v04/models/alpha_v04_model_0000632032_ep_20210528_094613.pkl', nets)"
   ]
  },
  {
   "cell_type": "code",
   "execution_count": 7,
   "id": "4af41bf9",
   "metadata": {},
   "outputs": [
    {
     "data": {
      "text/plain": [
       "Alphazero_wrapper(\n",
       "  (prediction): AlphaZero(\n",
       "    (conv_block): ConvBlock(\n",
       "      (block): Sequential(\n",
       "        (0): Conv2d(3, 64, kernel_size=(3, 3), stride=(1, 1), padding=(1, 1))\n",
       "        (1): BatchNorm2d(64, eps=1e-05, momentum=0.1, affine=True, track_running_stats=True)\n",
       "        (2): ReLU(inplace=True)\n",
       "      )\n",
       "    )\n",
       "    (res_blocks): Sequential(\n",
       "      (0): ResidualBlock(\n",
       "        (block): Sequential(\n",
       "          (0): Conv2d(64, 64, kernel_size=(3, 3), stride=(1, 1), padding=(1, 1))\n",
       "          (1): BatchNorm2d(64, eps=1e-05, momentum=0.1, affine=True, track_running_stats=True)\n",
       "          (2): ReLU(inplace=True)\n",
       "          (3): Conv2d(64, 64, kernel_size=(3, 3), stride=(1, 1), padding=(1, 1))\n",
       "          (4): BatchNorm2d(64, eps=1e-05, momentum=0.1, affine=True, track_running_stats=True)\n",
       "        )\n",
       "        (activation): ReLU(inplace=True)\n",
       "      )\n",
       "      (1): ResidualBlock(\n",
       "        (block): Sequential(\n",
       "          (0): Conv2d(64, 64, kernel_size=(3, 3), stride=(1, 1), padding=(1, 1))\n",
       "          (1): BatchNorm2d(64, eps=1e-05, momentum=0.1, affine=True, track_running_stats=True)\n",
       "          (2): ReLU(inplace=True)\n",
       "          (3): Conv2d(64, 64, kernel_size=(3, 3), stride=(1, 1), padding=(1, 1))\n",
       "          (4): BatchNorm2d(64, eps=1e-05, momentum=0.1, affine=True, track_running_stats=True)\n",
       "        )\n",
       "        (activation): ReLU(inplace=True)\n",
       "      )\n",
       "      (2): ResidualBlock(\n",
       "        (block): Sequential(\n",
       "          (0): Conv2d(64, 64, kernel_size=(3, 3), stride=(1, 1), padding=(1, 1))\n",
       "          (1): BatchNorm2d(64, eps=1e-05, momentum=0.1, affine=True, track_running_stats=True)\n",
       "          (2): ReLU(inplace=True)\n",
       "          (3): Conv2d(64, 64, kernel_size=(3, 3), stride=(1, 1), padding=(1, 1))\n",
       "          (4): BatchNorm2d(64, eps=1e-05, momentum=0.1, affine=True, track_running_stats=True)\n",
       "        )\n",
       "        (activation): ReLU(inplace=True)\n",
       "      )\n",
       "      (3): ResidualBlock(\n",
       "        (block): Sequential(\n",
       "          (0): Conv2d(64, 64, kernel_size=(3, 3), stride=(1, 1), padding=(1, 1))\n",
       "          (1): BatchNorm2d(64, eps=1e-05, momentum=0.1, affine=True, track_running_stats=True)\n",
       "          (2): ReLU(inplace=True)\n",
       "          (3): Conv2d(64, 64, kernel_size=(3, 3), stride=(1, 1), padding=(1, 1))\n",
       "          (4): BatchNorm2d(64, eps=1e-05, momentum=0.1, affine=True, track_running_stats=True)\n",
       "        )\n",
       "        (activation): ReLU(inplace=True)\n",
       "      )\n",
       "      (4): ResidualBlock(\n",
       "        (block): Sequential(\n",
       "          (0): Conv2d(64, 64, kernel_size=(3, 3), stride=(1, 1), padding=(1, 1))\n",
       "          (1): BatchNorm2d(64, eps=1e-05, momentum=0.1, affine=True, track_running_stats=True)\n",
       "          (2): ReLU(inplace=True)\n",
       "          (3): Conv2d(64, 64, kernel_size=(3, 3), stride=(1, 1), padding=(1, 1))\n",
       "          (4): BatchNorm2d(64, eps=1e-05, momentum=0.1, affine=True, track_running_stats=True)\n",
       "        )\n",
       "        (activation): ReLU(inplace=True)\n",
       "      )\n",
       "    )\n",
       "    (action_head): Sequential(\n",
       "      (0): Conv2d(64, 6, kernel_size=(1, 1), stride=(1, 1))\n",
       "      (1): BatchNorm2d(6, eps=1e-05, momentum=0.1, affine=True, track_running_stats=True)\n",
       "      (2): ReLU(inplace=True)\n",
       "    )\n",
       "    (value_head): Sequential(\n",
       "      (0): Conv2d(64, 4, kernel_size=(1, 1), stride=(1, 1))\n",
       "      (1): BatchNorm2d(4, eps=1e-05, momentum=0.1, affine=True, track_running_stats=True)\n",
       "      (2): ReLU(inplace=True)\n",
       "    )\n",
       "    (fc1): Linear(in_features=120, out_features=8, bias=True)\n",
       "    (fc2): Linear(in_features=8, out_features=1, bias=True)\n",
       "    (activation): ReLU(inplace=True)\n",
       "    (tanh): Tanh()\n",
       "    (softmax): Softmax(dim=1)\n",
       "  )\n",
       ")"
      ]
     },
     "execution_count": 7,
     "metadata": {},
     "output_type": "execute_result"
    }
   ],
   "source": [
    "model"
   ]
  }
 ],
 "metadata": {
  "kernelspec": {
   "display_name": "Python 3",
   "language": "python",
   "name": "python3"
  },
  "language_info": {
   "codemirror_mode": {
    "name": "ipython",
    "version": 3
   },
   "file_extension": ".py",
   "mimetype": "text/x-python",
   "name": "python",
   "nbconvert_exporter": "python",
   "pygments_lexer": "ipython3",
   "version": "3.8.5"
  }
 },
 "nbformat": 4,
 "nbformat_minor": 5
}
