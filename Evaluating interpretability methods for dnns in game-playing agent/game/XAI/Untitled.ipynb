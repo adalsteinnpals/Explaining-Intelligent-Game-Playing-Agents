{
 "cells": [
  {
   "cell_type": "markdown",
   "id": "60c54804",
   "metadata": {},
   "source": [
    "# Create Games"
   ]
  },
  {
   "cell_type": "code",
   "execution_count": 9,
   "id": "9f605ed1",
   "metadata": {},
   "outputs": [
    {
     "data": {
      "text/plain": [
       "[[[0, 0, 0, 0, 0],\n",
       "  [0, 0, 0, 0, 0],\n",
       "  [0, 0, 0, 0, 0],\n",
       "  [0, 0, 0, 0, 0],\n",
       "  [0, 0, 0, 0, 0],\n",
       "  [0, 0, 0, 0, 0]],\n",
       " [[0, 0, 0, 0, 0],\n",
       "  [0, 0, 0, 0, 0],\n",
       "  [0, 0, 0, 0, 0],\n",
       "  [0, 0, 0, 0, 0],\n",
       "  [0, 0, 0, 0, 0],\n",
       "  [0, 0, 0, 0, 0]],\n",
       " [[0, 0, 0, 0, 0],\n",
       "  [0, 0, 0, 0, 0],\n",
       "  [0, 0, 0, 0, 0],\n",
       "  [0, 0, 0, 0, 0],\n",
       "  [0, 0, 0, 0, 0],\n",
       "  [0, 0, 0, 0, 0]]]"
      ]
     },
     "execution_count": 9,
     "metadata": {},
     "output_type": "execute_result"
    }
   ],
   "source": [
    "import numpy as np\n",
    "np.zeros((3,6,5)).astype(int).tolist()"
   ]
  },
  {
   "cell_type": "code",
   "execution_count": 3,
   "id": "c6ee7fec",
   "metadata": {},
   "outputs": [],
   "source": [
    "from muzero_model.breakthrough import State, Board\n",
    "import numpy as np"
   ]
  },
  {
   "cell_type": "code",
   "execution_count": 7,
   "id": "8fb02845",
   "metadata": {},
   "outputs": [],
   "source": [
    "grid = np.array([[2, 2, 2, 2, 2],\n",
    "                [2, 2, 2, 2, 2],\n",
    "                [0, 0, 0, 0, 0],\n",
    "                [0, 0, 0, 0, 0],\n",
    "                [1, 1, 0, 1, 1],\n",
    "                [1, 1, 1, 1, 1]])\n",
    "player_to_move = 2\n",
    "\n",
    "board = Board(5, grid)\n",
    "state = State(board=board, player_to_move = player_to_move)"
   ]
  },
  {
   "cell_type": "code",
   "execution_count": 11,
   "id": "b6ca1687",
   "metadata": {},
   "outputs": [],
   "source": [
    "grid = np.array([[0, 0, 2, 0, 0],\n",
    "                [0, 0, 2, 0, 0],\n",
    "                [0, 0, 0, 1, 0],\n",
    "                [0, 0, 0, 0, 0],\n",
    "                [0, 0, 0, 0, 0],\n",
    "                [0, 0, 0, 0, 0]])\n",
    "player_to_move = 1\n",
    "\n",
    "board = Board(5, grid)\n",
    "state = State(board=board, player_to_move = player_to_move)"
   ]
  },
  {
   "cell_type": "code",
   "execution_count": 17,
   "id": "642f54df",
   "metadata": {},
   "outputs": [
    {
     "name": "stdout",
     "output_type": "stream",
     "text": [
      "6  . . B . .\n",
      "5  . . . . W\n",
      "4  . . B . .\n",
      "3  . . . . .\n",
      "2  . . . . .\n",
      "1  . . . . .\n",
      "\n",
      "   a b c d e\n",
      "\n"
     ]
    }
   ],
   "source": [
    "print(state)"
   ]
  },
  {
   "cell_type": "code",
   "execution_count": 16,
   "id": "8561f04d",
   "metadata": {},
   "outputs": [
    {
     "data": {
      "text/plain": [
       "<muzero_model.breakthrough.State at 0x7f99eaa3b7c0>"
      ]
     },
     "execution_count": 16,
     "metadata": {},
     "output_type": "execute_result"
    }
   ],
   "source": [
    "def rollout(staet)\n"
   ]
  }
 ],
 "metadata": {
  "kernelspec": {
   "display_name": "Python 3",
   "language": "python",
   "name": "python3"
  },
  "language_info": {
   "codemirror_mode": {
    "name": "ipython",
    "version": 3
   },
   "file_extension": ".py",
   "mimetype": "text/x-python",
   "name": "python",
   "nbconvert_exporter": "python",
   "pygments_lexer": "ipython3",
   "version": "3.8.5"
  }
 },
 "nbformat": 4,
 "nbformat_minor": 5
}
