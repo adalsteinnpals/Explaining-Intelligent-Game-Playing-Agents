{
 "cells": [
  {
   "cell_type": "code",
   "execution_count": 1,
   "id": "2409f72c-1407-4d9e-8fa4-7253f97d5c6a",
   "metadata": {},
   "outputs": [
    {
     "name": "stdout",
     "output_type": "stream",
     "text": [
      "Collecting graphviz\n",
      "  Downloading graphviz-0.16-py2.py3-none-any.whl (19 kB)\n",
      "Installing collected packages: graphviz\n",
      "Successfully installed graphviz-0.16\n"
     ]
    }
   ],
   "source": [
    "!pip install graphviz"
   ]
  },
  {
   "cell_type": "code",
   "execution_count": 1,
   "id": "cddc6558-bae1-48d5-878a-13987cecc115",
   "metadata": {},
   "outputs": [
    {
     "name": "stdout",
     "output_type": "stream",
     "text": [
      "pygame 2.0.1 (SDL 2.0.14, Python 3.8.5)\n",
      "Hello from the pygame community. https://www.pygame.org/contribute.html\n"
     ]
    }
   ],
   "source": [
    "from utils import *"
   ]
  },
  {
   "cell_type": "code",
   "execution_count": 4,
   "id": "d6b62fb6-9cf3-46c0-8e83-5695b9374625",
   "metadata": {},
   "outputs": [
    {
     "name": "stdout",
     "output_type": "stream",
     "text": [
      "6  B . . B .\n",
      "5  B . B . B\n",
      "4  . B . . .\n",
      "3  . W W . .\n",
      "2  . W W W .\n",
      "1  W W W W W\n",
      "\n",
      "   a b c d e\n",
      "\n",
      "1.00 sec. best 47. q = 0.9667. n = 492 / 887. pv = 47\n"
     ]
    }
   ],
   "source": [
    "grid = np.array([[2, 0, 0, 2, 0],\n",
    "                [2, 0, 2, 0, 2],\n",
    "                [0, 2, 0, 0, 0],\n",
    "                [0, 1, 1, 0, 0],\n",
    "                [0, 1, 1, 1, 0],\n",
    "                [1, 1, 1, 1, 1]])\n",
    "player_to_move = 1\n",
    "\n",
    "board = Board(5, grid)\n",
    "state = State(board=board, player_to_move = player_to_move)\n",
    "tree = Tree(model)   \n",
    "p_target = tree.think(state, 1000, 0.1, show=True)"
   ]
  },
  {
   "cell_type": "code",
   "execution_count": 6,
   "id": "298844ca-96b2-4598-b75e-5520fb4cd254",
   "metadata": {},
   "outputs": [
    {
     "name": "stderr",
     "output_type": "stream",
     "text": [
      "100%|██████████| 418/418 [00:03<00:00, 134.03it/s]\n"
     ]
    }
   ],
   "source": [
    "show_mcts_exploration(tree, state, min_visit_count = 10)"
   ]
  },
  {
   "cell_type": "code",
   "execution_count": 3,
   "id": "0974c0fc-8711-4366-ac64-c24f63089888",
   "metadata": {},
   "outputs": [
    {
     "name": "stderr",
     "output_type": "stream",
     "text": [
      "100%|██████████| 246/246 [00:01<00:00, 130.43it/s]\n"
     ]
    }
   ],
   "source": [
    "# Save images\n",
    "from PIL import Image\n",
    "from tqdm import tqdm\n",
    "\n",
    "names = []\n",
    "\n",
    "\n",
    "for path in tqdm(tree.nodes.keys()):\n",
    "    state_ = copy.deepcopy(state)\n",
    "    if len(path) > 0:\n",
    "        actions = path.split('|')[1].split(' ') \n",
    "        for action in actions:\n",
    "            state_.play(int(action))       \n",
    "        parent = 'root' if len(actions) == 1 else '-'.join(actions[:-1])\n",
    "        name = 'namesplit_' + '-'.join(actions)+'namesplit_' + parent + 'namesplit_' + str(tree.nodes[path].n_all)+ '.png'\n",
    "    else:\n",
    "        name = 'root.png'\n",
    "    names.append(name)\n",
    "    arr = get_image_array(state_)\n",
    "    \n",
    "    img = Image.fromarray((arr).astype(np.uint8))\n",
    "    img = img.resize((img.size[0] // 6, img.size[0] // 6))\n",
    "    img.save('figs/'+name)\n",
    "    \n"
   ]
  },
  {
   "cell_type": "code",
   "execution_count": 5,
   "id": "1880dcc7-07a4-4053-b125-aa1041d72b7c",
   "metadata": {},
   "outputs": [
    {
     "data": {
      "text/plain": [
       "'process.gv.svg'"
      ]
     },
     "execution_count": 5,
     "metadata": {},
     "output_type": "execute_result"
    }
   ],
   "source": [
    "from graphviz import Graph\n",
    "g = Graph('G', \n",
    "          node_attr={'color': 'lightblue2',\n",
    "                    'shape':'plaintext'},\n",
    "          filename='process.gv', \n",
    "          engine='dot', \n",
    "          format='svg')\n",
    "g.attr(fontsize='100')\n",
    "min_visit_count = 5\n",
    "# Create nodes\n",
    "for name in names:\n",
    "    if name != 'root.png':\n",
    "        _, node_name, parent_name, visit = name.replace('.png','').split('namesplit_')\n",
    "        if int(visit) < min_visit_count:\n",
    "            continue\n",
    "    else:\n",
    "        node_name = 'root'\n",
    "    g.node(node_name,label=\"\",image='figs/'+name)\n",
    "    \n",
    "# Create edges\n",
    "for name in names:\n",
    "    if name != 'root.png':\n",
    "        _, node_name, parent_name, visit = name.replace('.png','').split('namesplit_')\n",
    "        if int(visit) < min_visit_count:\n",
    "            continue\n",
    "        g.edge(parent_name, node_name, label = visit)\n",
    "    \n",
    "g.view()"
   ]
  },
  {
   "cell_type": "code",
   "execution_count": null,
   "id": "2be5ab0a-2531-480d-909f-21f31615b9e4",
   "metadata": {},
   "outputs": [],
   "source": []
  }
 ],
 "metadata": {
  "kernelspec": {
   "display_name": "Python 3",
   "language": "python",
   "name": "python3"
  },
  "language_info": {
   "codemirror_mode": {
    "name": "ipython",
    "version": 3
   },
   "file_extension": ".py",
   "mimetype": "text/x-python",
   "name": "python",
   "nbconvert_exporter": "python",
   "pygments_lexer": "ipython3",
   "version": "3.8.5"
  }
 },
 "nbformat": 4,
 "nbformat_minor": 5
}
